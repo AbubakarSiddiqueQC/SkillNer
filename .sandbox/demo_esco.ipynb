{
 "cells": [
  {
   "cell_type": "code",
   "execution_count": 2,
   "metadata": {},
   "outputs": [],
   "source": [
    "%load_ext autoreload\n",
    "%autoreload 2"
   ]
  },
  {
   "cell_type": "code",
   "execution_count": 3,
   "metadata": {},
   "outputs": [],
   "source": [
    "from skillner.core import Pipeline, Document, Sentence\n",
    "\n",
    "from skillner.text_loaders import StrTextLoader\n",
    "from skillner.matchers import SlidingWindowMatcher\n",
    "from skillner import corpus"
   ]
  },
  {
   "cell_type": "code",
   "execution_count": 4,
   "metadata": {},
   "outputs": [],
   "source": [
    "kb,query_method = corpus.load('esco_en')"
   ]
  },
  {
   "cell_type": "code",
   "execution_count": 5,
   "metadata": {},
   "outputs": [
    {
     "data": {
      "text/plain": [
       "[{'concept_id': 'http://data.europa.eu/esco/skill/1fea0bc2-a6fa-4fe8-b36f-7a3194f8ed1c',\n",
       "  'pref_label': 'electricity principles',\n",
       "  'level': 2}]"
      ]
     },
     "execution_count": 5,
     "metadata": {},
     "output_type": "execute_result"
    }
   ],
   "source": [
    "query_method('current')"
   ]
  },
  {
   "cell_type": "code",
   "execution_count": 6,
   "metadata": {},
   "outputs": [],
   "source": [
    "text = \"\"\"\n",
    "\n",
    "GLOBAL PHOSPHORUS INSTITUTE (GPI)\n",
    "\n",
    "Position Announcement - Senior Scientist\n",
    "\n",
    "\n",
    "The Global Phosphorus Institute (https://www.tgpi.org/en/home) is seeking a highly qualified and enthusiastic Senior Scientist to provide high level scientific expertise in agronomic, environmental, and other technical aspects associated with assured, reliable and affordable access to phosphorus, and its sustainable management. The ideal candidate will work independently and collaboratively with internal teams and external partners to identify important issues associated with the sustainable management of phosphorus in agricultural, industrial, and other non-agricultural settings, show leadership with those issues, define critical research gaps associated with them, and be able to conceive, plan, design and oversee studies that contribute to the current state of knowledge on sustainable use of this non- substitutable resource.\n",
    "\n",
    "\n",
    "Terms of reference :\n",
    "\n",
    "The Senior Scientist position will be based at the GPI headquarters in Benguérir, Morocco, and reports to the Executive Director. The ideal candidate will:\n",
    "\n",
    "1) Demonstrate the highest standards of integrity, ethics, and diplomacy in the conduct of Institute business always and respect diversity;\n",
    "\n",
    "2) Be a communications and ideas facilitator on sustainability issues associated with phosphorus among leading scientists, the fertilizer industry, agribusiness, industrial users, educators, environmental groups, sustainability organizations, governments, NGOs, and start-ups;\n",
    "\n",
    "3) Coordinate with the Institute’s management team to contribute to specific issues associated with sustainable phosphorus use and management. These include, but are not limited to, the following:\n",
    "\n",
    "\n",
    "a) Environmental issues (e.g., hypoxia, eutrophication, harmful algal blooms)\n",
    "\n",
    "b) Reserves and resources\n",
    "\n",
    "c) Agricultural, industrial and food uses\n",
    "\n",
    "d) Value/supply chain\n",
    "\n",
    "e) Hazardous trace elements\n",
    "\n",
    "f) Health and human nutrition\n",
    "\n",
    "g) Economic, social, and policy aspects relevant to Sustainable Development Goals\n",
    "\n",
    "\n",
    "4) Coordinate, with GPI partners and stakeholders who have an interest and involvement with key sustainable phosphorus organizations and government agencies. These may include, but are not limited to, the following: Sustainable Phosphorus Alliance, Phosphorus Futures, European Sustainable Phosphorus Platform, SERA-17 – Organization to Minimize Phosphorus Losses from Agriculture, Scientific Committee on Problems of the Environment, United Nations Environmental Program – Global Partnership on Nutrient Management;\n",
    "\n",
    "5) Support GPI’s communications activities, including website support, social media, preparation of informational items (folders, brochures, white papers, software, etc.), annual reports etc. and other writing assignments such as preparing or overseeing critical scientific reviews on specific subjects\n",
    "\n",
    "critical to GPI’s mission;\n",
    "\n",
    "6) Support GPI research activities through overseeing and/or collaborating with researchers and their institutions;\n",
    "\n",
    "7) Assess new proposals for research or for extension of existing research projects, which involve commitments on GPI’s funds and resources, and advise the Executive Director on suitability of funding;\n",
    "\n",
    "8) Represent GPI at scientific or other meetings, including speaking assignments and fulfill other duties as designated by GPI’s Executive Director;\n",
    "\n",
    "9) Actively engage in appropriate international and national professional and scientific societies to represent the Institute;\n",
    "\n",
    "\n",
    "Qualification and Experience :\n",
    "\n",
    "\n",
    "· A Ph.D. degree in agricultural or environmental science or in a closely allied field from an accredited university and experience with sustainable phosphorus issues;\n",
    "\n",
    "· At least 7 years’ experience at a scientist or equivalent position with exhibited ability to set priorities and work effectively with diverse groups of stakeholders and collaborators;\n",
    "\n",
    "· Strong analytical capacities and quantitative skills with proven records in scientific publications;\n",
    "\n",
    "· Experience in developing proposals and fundraising;\n",
    "\n",
    "· Willingness and ability to travel internationally, including to developing countries (up to 15%);\n",
    "\n",
    "· Excellent written and oral communication skills in English, especially scientific issues related to phosphorus;\n",
    "\n",
    "\n",
    "Preferred qualifications\n",
    "\n",
    "\n",
    "· International experience.\n",
    "\n",
    "· Working knowledge of French and Arabic.\n",
    "\n",
    "The announcement is for a full-time and permanent position, subject to completing a satisfactory probation period and performance. A competitive salary and employee benefits package will be provided. Qualified female candidates are especially encouraged to apply. Qualified candidates should send all application materials in English, including a detailed CV, an application letter, and the email addresses of three professional references to communication@tgpi.org with copy to Abdallah.elhouari@tgpi.org and Kaushik.Majumdar@tgpi.org , with the position name (Senior Scientist) mentioned in the subject line. The deadline for application is 17th February 2023.\n",
    "\n",
    "This posting will remain open until a suitable candidate has been found. Only pre-selected candidates for the interview will be contacted.\n",
    "\n",
    "\"\"\""
   ]
  }
 ],
 "metadata": {
  "kernelspec": {
   "display_name": "Python 3",
   "language": "python",
   "name": "python3"
  },
  "language_info": {
   "codemirror_mode": {
    "name": "ipython",
    "version": 3
   },
   "file_extension": ".py",
   "mimetype": "text/x-python",
   "name": "python",
   "nbconvert_exporter": "python",
   "pygments_lexer": "ipython3",
   "version": "3.10.4"
  },
  "orig_nbformat": 4,
  "vscode": {
   "interpreter": {
    "hash": "3ad933181bd8a04b432d3370b9dc3b0662ad032c4dfaa4e4f1596c548f763858"
   }
  }
 },
 "nbformat": 4,
 "nbformat_minor": 2
}
