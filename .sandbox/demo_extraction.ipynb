{
 "cells": [
  {
   "cell_type": "code",
   "execution_count": 1,
   "metadata": {},
   "outputs": [],
   "source": [
    "knowledge_base = {\n",
    "        \"student\": [{\"concept_id\": -2, \"type\": \"academic (primary -> high school)\"}],\n",
    "        \"engineer student\": [{\"concept_id\": -1, \"type\": \"academic (college)\"}],\n",
    "        \"industrial management engineer\": [{\"concept_id\": 0, \"type\": \"profession\"}],\n",
    "        \"industrial management\": [{\"concept_id\": 1, \"type\": \"field\"}],\n",
    "        \"software\": [{\"concept_id\": 2, \"type\": \"stuff\"}],\n",
    "        \"software engineer\": [{\"concept_id\": 3, \"type\": \"profession\"}],\n",
    "        \"software engineer enthusiast\": [{\"concept_id\": 4, \"type\": \"hobby\"}],\n",
    "        \"emines\": [\n",
    "            {\"concept_id\": 5, \"type\": \"institution\"},\n",
    "            {\"concept_id\": 6, \"type\": \"school\"},\n",
    "        ],\n",
    "    }\n",
    "\n",
    "\n",
    "def query_method(s: str):\n",
    "    resp = knowledge_base.get(s, None)\n",
    "\n",
    "    if resp is None:\n",
    "        return []\n",
    "\n",
    "    return knowledge_base.get(s, None)\n"
   ]
  },
  {
   "cell_type": "code",
   "execution_count": 2,
   "metadata": {},
   "outputs": [],
   "source": [
    "text = (\"Five years before i was a student now i am an engineer student at EMINES.\"\n",
    "        \"school of industrial management by the end of this year i will graduate as.\"\n",
    "        \"An industrial management engineer, I am a software engineer enthusiast nothing to say student and student.\")"
   ]
  },
  {
   "cell_type": "code",
   "execution_count": 3,
   "metadata": {},
   "outputs": [],
   "source": [
    "from skillner.core import Pipeline, Document, Sentence\n",
    "\n",
    "from skillner.text_loaders import StrTextLoader\n",
    "from skillner.matchers import SlidingWindowMatcher\n",
    "from skillner.conflict_resolvers import SpanProcessor"
   ]
  },
  {
   "cell_type": "code",
   "execution_count": 4,
   "metadata": {},
   "outputs": [],
   "source": [
    "# define extraction pipeline\n",
    "doc = Document()\n",
    "\n",
    "extraction_pipeline = Pipeline()\n",
    "\n",
    "extraction_pipeline.add_node(\n",
    "    StrTextLoader(text),\n",
    "    name='loader'\n",
    ")\n",
    "\n",
    "extraction_pipeline.add_node(\n",
    "    SlidingWindowMatcher(\n",
    "        query_method,\n",
    "        max_window_size=4,\n",
    "        pre_filter=lambda word: word.lower()\n",
    "    ),\n",
    "    name='matcher'\n",
    ")\n",
    "\n",
    "extraction_pipeline.add_node(\n",
    "    SpanProcessor(\n",
    "        dict_filters={\n",
    "            \"max_candidate\": lambda span: max(span.li_candidates, key=len)\n",
    "        }\n",
    "    ),\n",
    "    name=\"conflict_resolver\"\n",
    ")\n",
    "\n",
    "extraction_pipeline.run(doc)"
   ]
  },
  {
   "cell_type": "code",
   "execution_count": 5,
   "metadata": {},
   "outputs": [
    {
     "name": "stdout",
     "output_type": "stream",
     "text": [
      "Sentence 1\n",
      "----------\n",
      "position   | count candidates     | largest candidate             \n",
      "------------------------------------------------------------------\n",
      "(6, 7)     |                    1 | student                        \n",
      "(11, 13)   |                    1 | engineer student               \n",
      "(12, 13)   |                    1 | student                        \n",
      "(14, 15)   |                    2 | EMINES                         \n",
      "==================================================================\n",
      "Sentence 2\n",
      "----------\n",
      "position   | count candidates     | largest candidate             \n",
      "------------------------------------------------------------------\n",
      "(2, 4)     |                    1 | industrial management          \n",
      "==================================================================\n",
      "Sentence 3\n",
      "----------\n",
      "position   | count candidates     | largest candidate             \n",
      "------------------------------------------------------------------\n",
      "(1, 4)     |                    2 | industrial management engineer \n",
      "(7, 10)    |                    3 | software engineer enthusiast   \n",
      "(13, 14)   |                    1 | student                        \n",
      "(15, 16)   |                    1 | student                        \n",
      "==================================================================\n"
     ]
    }
   ],
   "source": [
    "# print matching result as table\n",
    "for idx, sentence in enumerate(doc, start=1):\n",
    "\n",
    "    print(f\"Sentence {idx}\")\n",
    "    print(\"-\" * len(\"Sentence 0\"))\n",
    "\n",
    "    print(f\"{'position':10} | {'count candidates':20} | {'largest candidate':30}\")\n",
    "    print(\"-\" * (10 + 20 + 30 + 3 * 2))\n",
    "\n",
    "    for span in sentence.li_spans:\n",
    "        position = f\"({span.start}, {span.stop})\"\n",
    "        count_spans = len(span.li_candidates)\n",
    "\n",
    "        max_candidate = span.metadata['max_candidate']\n",
    "        str_max_candidate = \" \".join(sentence[max_candidate.window])\n",
    "        \n",
    "        print(f\"{position:10} | {count_spans:20} | {str_max_candidate:30} \")\n",
    "\n",
    "    print(\"=\" * (10 + 20 + 30 + 3 * 2))"
   ]
  }
 ],
 "metadata": {
  "kernelspec": {
   "display_name": "venv",
   "language": "python",
   "name": "python3"
  },
  "language_info": {
   "codemirror_mode": {
    "name": "ipython",
    "version": 3
   },
   "file_extension": ".py",
   "mimetype": "text/x-python",
   "name": "python",
   "nbconvert_exporter": "python",
   "pygments_lexer": "ipython3",
   "version": "3.9.12"
  },
  "orig_nbformat": 4,
  "vscode": {
   "interpreter": {
    "hash": "55d7704c59e593686a551481fa2770f956d9a1ca22978cd8c6d8c75997a19bda"
   }
  }
 },
 "nbformat": 4,
 "nbformat_minor": 2
}
