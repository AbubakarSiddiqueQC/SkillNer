{
 "cells": [
  {
   "cell_type": "code",
   "execution_count": 1,
   "metadata": {},
   "outputs": [],
   "source": [
    "# define knowledge base \n",
    "knowledge_base = {\n",
    "    \"student\": { \"id\": -2, \"type\": \"academic (primary -> high school)\"},\n",
    "    \"engineer student\": { \"id\": -1, \"type\": \"academic (college)\"},\n",
    "    \"industrial management engineer\": { \"id\": 0, \"type\": \"profession\"},\n",
    "    \"industrial management\": { \"id\": 1, \"type\": \"field\"},\n",
    "    \"software\": { \"id\": 2, \"type\": \"stuff\"},\n",
    "    \"software engineer\": { \"id\": 3, \"type\": \"profession\"},\n",
    "    \"software engineer enthusiast\": { \"id\": 4, \"type\": \"hobby\"},\n",
    "    \"emines\": {\"id\": 5, \"type\": \"institution\"},\n",
    "}\n",
    "\n",
    "def query_method(s: str):\n",
    "        return knowledge_base.get(s, None)"
   ]
  },
  {
   "cell_type": "code",
   "execution_count": 2,
   "metadata": {},
   "outputs": [],
   "source": [
    "text = (\"Five years before i was a student now i am an engineer student at EMINES.\"\n",
    "        \"school of industrial management by the end of this year i will graduate as.\"\n",
    "        \"An industrial management engineer, I am a software engineer enthusiast nothing to say student and student.\")"
   ]
  },
  {
   "cell_type": "code",
   "execution_count": 3,
   "metadata": {},
   "outputs": [],
   "source": [
    "from skillner.core import Pipeline, Document, Sentence\n",
    "\n",
    "from skillner.text_loaders import StrTextLoader\n",
    "from skillner.matchers import SlidingWindowMatcher"
   ]
  },
  {
   "cell_type": "code",
   "execution_count": 4,
   "metadata": {},
   "outputs": [],
   "source": [
    "# define extraction pipeline\n",
    "doc = Document()\n",
    "\n",
    "extraction_pipeline = Pipeline()\n",
    "\n",
    "extraction_pipeline.add_node(\n",
    "    StrTextLoader(text),\n",
    "    name='loader'\n",
    ")\n",
    "\n",
    "extraction_pipeline.add_node(\n",
    "    SlidingWindowMatcher(\n",
    "        query_method,\n",
    "        max_window_size=4,\n",
    "        pre_filter=lambda word: word.lower()\n",
    "    ),\n",
    "    name='matcher'\n",
    ")\n",
    "\n",
    "extraction_pipeline.run(doc)"
   ]
  },
  {
   "cell_type": "code",
   "execution_count": 5,
   "metadata": {},
   "outputs": [
    {
     "name": "stdout",
     "output_type": "stream",
     "text": [
      "Sentence 1\n",
      "----------\n",
      "position   | count candidates     | largest candidate             \n",
      "------------------------------------------------------------------\n",
      "(6, 7)     |                    1 | student                        \n",
      "(11, 13)   |                    1 | engineer student               \n",
      "(12, 13)   |                    1 | student                        \n",
      "(14, 15)   |                    1 | EMINES                         \n",
      "==================================================================\n",
      "Sentence 2\n",
      "----------\n",
      "position   | count candidates     | largest candidate             \n",
      "------------------------------------------------------------------\n",
      "(2, 4)     |                    1 | industrial management          \n",
      "==================================================================\n",
      "Sentence 3\n",
      "----------\n",
      "position   | count candidates     | largest candidate             \n",
      "------------------------------------------------------------------\n",
      "(1, 4)     |                    2 | industrial management engineer \n",
      "(7, 10)    |                    3 | software engineer enthusiast   \n",
      "(13, 14)   |                    1 | student                        \n",
      "(15, 16)   |                    1 | student                        \n",
      "==================================================================\n"
     ]
    }
   ],
   "source": [
    "# print matching result as table\n",
    "for idx, sentence in enumerate(doc, start=1):\n",
    "\n",
    "    print(f\"Sentence {idx}\")\n",
    "    print(\"-\" * len(\"Sentence 0\"))\n",
    "\n",
    "    print(f\"{'position':10} | {'count candidates':20} | {'largest candidate':30}\")\n",
    "    print(\"-\" * (10 + 20 + 30 + 3 * 2))\n",
    "\n",
    "    for span in sentence.li_spans:\n",
    "        position = f\"({span.start}, {span.stop})\"\n",
    "        count_spans = len(span.li_candidates)\n",
    "        max_candidate = max(\n",
    "            span.li_candidates, key=lambda candidate: len(candidate)\n",
    "        )\n",
    "\n",
    "        str_max_candidate = \" \".join(sentence[max_candidate.window])\n",
    "        print(f\"{position:10} | {count_spans:20} | {str_max_candidate:30} \")\n",
    "\n",
    "    print(\"=\" * (10 + 20 + 30 + 3 * 2))"
   ]
  }
 ],
 "metadata": {
  "kernelspec": {
   "display_name": "Python 3",
   "language": "python",
   "name": "python3"
  },
  "language_info": {
   "codemirror_mode": {
    "name": "ipython",
    "version": 3
   },
   "file_extension": ".py",
   "mimetype": "text/x-python",
   "name": "python",
   "nbconvert_exporter": "python",
   "pygments_lexer": "ipython3",
   "version": "3.10.4"
  },
  "orig_nbformat": 4,
  "vscode": {
   "interpreter": {
    "hash": "3ad933181bd8a04b432d3370b9dc3b0662ad032c4dfaa4e4f1596c548f763858"
   }
  }
 },
 "nbformat": 4,
 "nbformat_minor": 2
}
