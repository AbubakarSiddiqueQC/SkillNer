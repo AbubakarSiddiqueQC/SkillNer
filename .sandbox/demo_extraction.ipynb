{
 "cells": [
  {
   "cell_type": "code",
   "execution_count": 1,
   "metadata": {},
   "outputs": [],
   "source": [
    "# define knowledge base \n",
    "knowledge_base = {\n",
    "    \"student\": { \"id\": -2, \"type\": \"academic (primary -> high school)\"},\n",
    "    \"engineer student\": { \"id\": -1, \"type\": \"academic (college)\"},\n",
    "    \"industrial management engineer\": { \"id\": 0, \"type\": \"profession\"},\n",
    "    \"industrial management\": { \"id\": 1, \"type\": \"field\"},\n",
    "    \"software\": { \"id\": 2, \"type\": \"stuff\"},\n",
    "    \"software engineer\": { \"id\": 3, \"type\": \"profession\"},\n",
    "    \"software engineer enthusiast\": { \"id\": 4, \"type\": \"hobby\"},\n",
    "    \"emines\": {\"id\": 5, \"type\": \"institution\"},\n",
    "}\n",
    "\n",
    "def query_method(s: str):\n",
    "        return knowledge_base.get(s, None)"
   ]
  },
  {
   "cell_type": "code",
   "execution_count": 2,
   "metadata": {},
   "outputs": [],
   "source": [
    "text = (\"Five years before i was a student now i am an engineer student at EMINES.\"\n",
    "        \"school of industrial management by the end of this year i will graduate as.\"\n",
    "        \"An industrial management engineer, I am a software engineer enthusiast nothing to say student and student.\")"
   ]
  },
  {
   "cell_type": "code",
   "execution_count": 3,
   "metadata": {},
   "outputs": [],
   "source": [
    "from skillner.core import Pipeline, Document, Sentence\n",
    "\n",
    "from skillner.text_loaders import StrTextLoader\n",
    "from skillner.matchers import SlidingWindowMatcher"
   ]
  },
  {
   "cell_type": "code",
   "execution_count": 4,
   "metadata": {},
   "outputs": [
    {
     "ename": "TypeError",
     "evalue": "string indices must be integers",
     "output_type": "error",
     "traceback": [
      "\u001b[0;31m---------------------------------------------------------------------------\u001b[0m",
      "\u001b[0;31mTypeError\u001b[0m                                 Traceback (most recent call last)",
      "Cell \u001b[0;32mIn[4], line 20\u001b[0m\n\u001b[1;32m      6\u001b[0m extraction_pipeline\u001b[39m.\u001b[39madd_node(\n\u001b[1;32m      7\u001b[0m     StrTextLoader(text),\n\u001b[1;32m      8\u001b[0m     name\u001b[39m=\u001b[39m\u001b[39m'\u001b[39m\u001b[39mloader\u001b[39m\u001b[39m'\u001b[39m\n\u001b[1;32m      9\u001b[0m )\n\u001b[1;32m     11\u001b[0m extraction_pipeline\u001b[39m.\u001b[39madd_node(\n\u001b[1;32m     12\u001b[0m     SlidingWindowMatcher(\n\u001b[1;32m     13\u001b[0m         query_method,\n\u001b[0;32m   (...)\u001b[0m\n\u001b[1;32m     17\u001b[0m     name\u001b[39m=\u001b[39m\u001b[39m'\u001b[39m\u001b[39mmatcher\u001b[39m\u001b[39m'\u001b[39m\n\u001b[1;32m     18\u001b[0m )\n\u001b[0;32m---> 20\u001b[0m extraction_pipeline\u001b[39m.\u001b[39;49mrun(doc)\n",
      "File \u001b[0;32m/workspaces/SkillNER/skillner/core/pipeline.py:45\u001b[0m, in \u001b[0;36mPipeline.run\u001b[0;34m(self, doc)\u001b[0m\n\u001b[1;32m     36\u001b[0m \u001b[39m\u001b[39m\u001b[39m\"\"\"Run the pipeline on document.\u001b[39;00m\n\u001b[1;32m     37\u001b[0m \n\u001b[1;32m     38\u001b[0m \u001b[39mPipeline will call sequentially enricher on the document.\u001b[39;00m\n\u001b[0;32m   (...)\u001b[0m\n\u001b[1;32m     42\u001b[0m \n\u001b[1;32m     43\u001b[0m \u001b[39m\"\"\"\u001b[39;00m\n\u001b[1;32m     44\u001b[0m \u001b[39mfor\u001b[39;00m node \u001b[39min\u001b[39;00m \u001b[39mself\u001b[39m\u001b[39m.\u001b[39mdict_nodes\u001b[39m.\u001b[39mvalues():\n\u001b[0;32m---> 45\u001b[0m     node(doc)\n",
      "File \u001b[0;32m/workspaces/SkillNER/skillner/core/base.py:14\u001b[0m, in \u001b[0;36mNode.__call__\u001b[0;34m(self, doc)\u001b[0m\n\u001b[1;32m     13\u001b[0m \u001b[39mdef\u001b[39;00m \u001b[39m__call__\u001b[39m(\u001b[39mself\u001b[39m, doc: Document) \u001b[39m-\u001b[39m\u001b[39m>\u001b[39m \u001b[39mNone\u001b[39;00m:\n\u001b[0;32m---> 14\u001b[0m     \u001b[39mself\u001b[39;49m\u001b[39m.\u001b[39;49menrich_doc(doc)\n",
      "File \u001b[0;32m/workspaces/SkillNER/skillner/matchers/sliding_window.py:58\u001b[0m, in \u001b[0;36mSlidingWindowMatcher.enrich_doc\u001b[0;34m(self, doc)\u001b[0m\n\u001b[1;32m     54\u001b[0m \u001b[39mfor\u001b[39;00m sentence \u001b[39min\u001b[39;00m doc:\n\u001b[1;32m     56\u001b[0m     \u001b[39mfor\u001b[39;00m idx_word \u001b[39min\u001b[39;00m \u001b[39mrange\u001b[39m(\u001b[39mlen\u001b[39m(sentence)):\n\u001b[0;32m---> 58\u001b[0m         span \u001b[39m=\u001b[39m \u001b[39mself\u001b[39;49m\u001b[39m.\u001b[39;49mfind_span(sentence, idx_word)\n\u001b[1;32m     60\u001b[0m         \u001b[39m# skip empty spans\u001b[39;00m\n\u001b[1;32m     61\u001b[0m         \u001b[39mif\u001b[39;00m span\u001b[39m.\u001b[39mis_empty():\n",
      "File \u001b[0;32m/workspaces/SkillNER/skillner/matchers/sliding_window.py:121\u001b[0m, in \u001b[0;36mSlidingWindowMatcher.find_span\u001b[0;34m(self, sentence, idx_word)\u001b[0m\n\u001b[1;32m    118\u001b[0m \u001b[39mif\u001b[39;00m response \u001b[39mis\u001b[39;00m \u001b[39mNone\u001b[39;00m \u001b[39mor\u001b[39;00m \u001b[39mlen\u001b[39m(response) \u001b[39m==\u001b[39m \u001b[39m0\u001b[39m:\n\u001b[1;32m    119\u001b[0m     \u001b[39mcontinue\u001b[39;00m\n\u001b[0;32m--> 121\u001b[0m concept_id \u001b[39m=\u001b[39m response[CONCEPT_ID]\n\u001b[1;32m    123\u001b[0m candidate \u001b[39m=\u001b[39m Candidate(window, concept_id)\n\u001b[1;32m    124\u001b[0m candidate\u001b[39m.\u001b[39mmetadata \u001b[39m=\u001b[39m response\n",
      "\u001b[0;31mTypeError\u001b[0m: string indices must be integers"
     ]
    }
   ],
   "source": [
    "# define extraction pipeline\n",
    "doc = Document()\n",
    "\n",
    "extraction_pipeline = Pipeline()\n",
    "\n",
    "extraction_pipeline.add_node(\n",
    "    StrTextLoader(text),\n",
    "    name='loader'\n",
    ")\n",
    "\n",
    "extraction_pipeline.add_node(\n",
    "    SlidingWindowMatcher(\n",
    "        query_method,\n",
    "        max_window_size=4,\n",
    "        pre_filter=lambda word: word.lower()\n",
    "    ),\n",
    "    name='matcher'\n",
    ")\n",
    "\n",
    "extraction_pipeline.run(doc)"
   ]
  },
  {
   "cell_type": "code",
   "execution_count": null,
   "metadata": {},
   "outputs": [
    {
     "name": "stdout",
     "output_type": "stream",
     "text": [
      "Sentence 1\n",
      "----------\n",
      "position   | count candidates     | largest candidate             \n",
      "------------------------------------------------------------------\n",
      "(6, 7)     |                    1 | student                        \n",
      "(11, 13)   |                    1 | engineer student               \n",
      "(12, 13)   |                    1 | student                        \n",
      "(14, 15)   |                    1 | EMINES                         \n",
      "==================================================================\n",
      "Sentence 2\n",
      "----------\n",
      "position   | count candidates     | largest candidate             \n",
      "------------------------------------------------------------------\n",
      "(2, 4)     |                    1 | industrial management          \n",
      "==================================================================\n",
      "Sentence 3\n",
      "----------\n",
      "position   | count candidates     | largest candidate             \n",
      "------------------------------------------------------------------\n",
      "(1, 4)     |                    2 | industrial management engineer \n",
      "(7, 10)    |                    3 | software engineer enthusiast   \n",
      "(13, 14)   |                    1 | student                        \n",
      "(15, 16)   |                    1 | student                        \n",
      "==================================================================\n"
     ]
    }
   ],
   "source": [
    "# print matching result as table\n",
    "for idx, sentence in enumerate(doc, start=1):\n",
    "\n",
    "    print(f\"Sentence {idx}\")\n",
    "    print(\"-\" * len(\"Sentence 0\"))\n",
    "\n",
    "    print(f\"{'position':10} | {'count candidates':20} | {'largest candidate':30}\")\n",
    "    print(\"-\" * (10 + 20 + 30 + 3 * 2))\n",
    "\n",
    "    for span in sentence.li_spans:\n",
    "        position = f\"({span.start}, {span.stop})\"\n",
    "        count_spans = len(span.li_candidates)\n",
    "        max_candidate = max(\n",
    "            span.li_candidates, key=lambda candidate: len(candidate)\n",
    "        )\n",
    "\n",
    "        str_max_candidate = \" \".join(sentence[max_candidate.window])\n",
    "        print(f\"{position:10} | {count_spans:20} | {str_max_candidate:30} \")\n",
    "\n",
    "    print(\"=\" * (10 + 20 + 30 + 3 * 2))"
   ]
  }
 ],
 "metadata": {
  "kernelspec": {
   "display_name": "Python 3",
   "language": "python",
   "name": "python3"
  },
  "language_info": {
   "codemirror_mode": {
    "name": "ipython",
    "version": 3
   },
   "file_extension": ".py",
   "mimetype": "text/x-python",
   "name": "python",
   "nbconvert_exporter": "python",
   "pygments_lexer": "ipython3",
   "version": "3.10.4"
  },
  "orig_nbformat": 4,
  "vscode": {
   "interpreter": {
    "hash": "3ad933181bd8a04b432d3370b9dc3b0662ad032c4dfaa4e4f1596c548f763858"
   }
  }
 },
 "nbformat": 4,
 "nbformat_minor": 2
}
